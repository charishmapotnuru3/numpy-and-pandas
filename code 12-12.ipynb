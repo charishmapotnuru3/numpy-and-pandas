{
 "cells": [
  {
   "cell_type": "markdown",
   "id": "04b40022",
   "metadata": {},
   "source": [
    "# Two-dimensional array"
   ]
  },
  {
   "cell_type": "code",
   "execution_count": 11,
   "id": "335ff7ae",
   "metadata": {},
   "outputs": [],
   "source": [
    "import numpy as np"
   ]
  },
  {
   "cell_type": "code",
   "execution_count": 12,
   "id": "d66cd4fa",
   "metadata": {},
   "outputs": [
    {
     "data": {
      "text/plain": [
       "array([[50, 20,  1, 23],\n",
       "       [24, 23, 21, 33],\n",
       "       [56, 76, 24,  7]])"
      ]
     },
     "execution_count": 12,
     "metadata": {},
     "output_type": "execute_result"
    }
   ],
   "source": [
    "sample_matrix=np.array([[50,20,1,23],[24,23,21,33],[56,76,24,7]])\n",
    "sample_matrix"
   ]
  },
  {
   "cell_type": "code",
   "execution_count": 17,
   "id": "56a572ed",
   "metadata": {},
   "outputs": [
    {
     "data": {
      "text/plain": [
       "array([[50, 20,  1, 23],\n",
       "       [24, 23, 21, 33],\n",
       "       [56, 76, 24,  7]])"
      ]
     },
     "execution_count": 17,
     "metadata": {},
     "output_type": "execute_result"
    }
   ],
   "source": [
    "sample_matrix[1,2]\n",
    "sample_matrix"
   ]
  },
  {
   "cell_type": "code",
   "execution_count": 16,
   "id": "85adcb39",
   "metadata": {},
   "outputs": [
    {
     "data": {
      "text/plain": [
       "array([[50, 20,  1, 23],\n",
       "       [24, 23, 21, 33],\n",
       "       [56, 76, 24,  7]])"
      ]
     },
     "execution_count": 16,
     "metadata": {},
     "output_type": "execute_result"
    }
   ],
   "source": [
    "sample_matrix[:,(3,2)]\n",
    "sample_matrix"
   ]
  },
  {
   "cell_type": "code",
   "execution_count": 18,
   "id": "789d4de1",
   "metadata": {},
   "outputs": [
    {
     "data": {
      "text/plain": [
       "array([56, 76, 24,  7])"
      ]
     },
     "execution_count": 18,
     "metadata": {},
     "output_type": "execute_result"
    }
   ],
   "source": [
    "sample_matrix[2,:]"
   ]
  },
  {
   "cell_type": "code",
   "execution_count": 20,
   "id": "6377437d",
   "metadata": {},
   "outputs": [
    {
     "data": {
      "text/plain": [
       "array([56, 76, 24,  7])"
      ]
     },
     "execution_count": 20,
     "metadata": {},
     "output_type": "execute_result"
    }
   ],
   "source": [
    "sample_matrix[2]"
   ]
  },
  {
   "cell_type": "markdown",
   "id": "fac8d527",
   "metadata": {},
   "source": [
    "### selection techiniques"
   ]
  },
  {
   "cell_type": "code",
   "execution_count": 22,
   "id": "ec62e2dc",
   "metadata": {},
   "outputs": [
    {
     "data": {
      "text/plain": [
       "array([ 1,  2,  3,  4,  5,  6,  7,  8,  9, 10, 11, 12, 13, 14, 15, 16, 17,\n",
       "       18, 19, 20, 21, 22, 23, 24])"
      ]
     },
     "execution_count": 22,
     "metadata": {},
     "output_type": "execute_result"
    }
   ],
   "source": [
    "sample_array=np.arange(1,25)\n",
    "sample_array"
   ]
  },
  {
   "cell_type": "code",
   "execution_count": 23,
   "id": "8d420b00",
   "metadata": {},
   "outputs": [
    {
     "data": {
      "text/plain": [
       "array([ 2,  4,  6,  8, 10, 12, 14, 16, 18, 20, 22, 24, 26, 28, 30, 32, 34,\n",
       "       36, 38, 40, 42, 44, 46, 48])"
      ]
     },
     "execution_count": 23,
     "metadata": {},
     "output_type": "execute_result"
    }
   ],
   "source": [
    "sample_array+sample_array"
   ]
  },
  {
   "cell_type": "code",
   "execution_count": 24,
   "id": "cef52eb7",
   "metadata": {},
   "outputs": [
    {
     "data": {
      "text/plain": [
       "array([2.71828183e+00, 7.38905610e+00, 2.00855369e+01, 5.45981500e+01,\n",
       "       1.48413159e+02, 4.03428793e+02, 1.09663316e+03, 2.98095799e+03,\n",
       "       8.10308393e+03, 2.20264658e+04, 5.98741417e+04, 1.62754791e+05,\n",
       "       4.42413392e+05, 1.20260428e+06, 3.26901737e+06, 8.88611052e+06,\n",
       "       2.41549528e+07, 6.56599691e+07, 1.78482301e+08, 4.85165195e+08,\n",
       "       1.31881573e+09, 3.58491285e+09, 9.74480345e+09, 2.64891221e+10])"
      ]
     },
     "execution_count": 24,
     "metadata": {},
     "output_type": "execute_result"
    }
   ],
   "source": [
    "np.exp(sample_array) # exponential"
   ]
  },
  {
   "cell_type": "code",
   "execution_count": 25,
   "id": "607a6606",
   "metadata": {},
   "outputs": [
    {
     "data": {
      "text/plain": [
       "array([1.        , 1.41421356, 1.73205081, 2.        , 2.23606798,\n",
       "       2.44948974, 2.64575131, 2.82842712, 3.        , 3.16227766,\n",
       "       3.31662479, 3.46410162, 3.60555128, 3.74165739, 3.87298335,\n",
       "       4.        , 4.12310563, 4.24264069, 4.35889894, 4.47213595,\n",
       "       4.58257569, 4.69041576, 4.79583152, 4.89897949])"
      ]
     },
     "execution_count": 25,
     "metadata": {},
     "output_type": "execute_result"
    }
   ],
   "source": [
    "np.sqrt(sample_array)"
   ]
  },
  {
   "cell_type": "code",
   "execution_count": 26,
   "id": "3093f923",
   "metadata": {},
   "outputs": [
    {
     "data": {
      "text/plain": [
       "array([0.        , 0.69314718, 1.09861229, 1.38629436, 1.60943791,\n",
       "       1.79175947, 1.94591015, 2.07944154, 2.19722458, 2.30258509,\n",
       "       2.39789527, 2.48490665, 2.56494936, 2.63905733, 2.7080502 ,\n",
       "       2.77258872, 2.83321334, 2.89037176, 2.94443898, 2.99573227,\n",
       "       3.04452244, 3.09104245, 3.13549422, 3.17805383])"
      ]
     },
     "execution_count": 26,
     "metadata": {},
     "output_type": "execute_result"
    }
   ],
   "source": [
    "np.log(sample_array)"
   ]
  },
  {
   "cell_type": "code",
   "execution_count": 27,
   "id": "1684c90b",
   "metadata": {},
   "outputs": [
    {
     "data": {
      "text/plain": [
       "24"
      ]
     },
     "execution_count": 27,
     "metadata": {},
     "output_type": "execute_result"
    }
   ],
   "source": [
    "np.max(sample_array)"
   ]
  },
  {
   "cell_type": "code",
   "execution_count": 28,
   "id": "24566ab6",
   "metadata": {},
   "outputs": [
    {
     "data": {
      "text/plain": [
       "1"
      ]
     },
     "execution_count": 28,
     "metadata": {},
     "output_type": "execute_result"
    }
   ],
   "source": [
    "np.min(sample_array)"
   ]
  },
  {
   "cell_type": "code",
   "execution_count": 29,
   "id": "fd6844dd",
   "metadata": {},
   "outputs": [
    {
     "data": {
      "text/plain": [
       "23"
      ]
     },
     "execution_count": 29,
     "metadata": {},
     "output_type": "execute_result"
    }
   ],
   "source": [
    "np.argmax(sample_array)"
   ]
  },
  {
   "cell_type": "code",
   "execution_count": 30,
   "id": "77410901",
   "metadata": {},
   "outputs": [
    {
     "data": {
      "text/plain": [
       "0"
      ]
     },
     "execution_count": 30,
     "metadata": {},
     "output_type": "execute_result"
    }
   ],
   "source": [
    "np.argmin(sample_array)"
   ]
  },
  {
   "cell_type": "code",
   "execution_count": 32,
   "id": "5d8f04ee",
   "metadata": {},
   "outputs": [
    {
     "data": {
      "text/plain": [
       "array([  1,   4,   9,  16,  25,  36,  49,  64,  81, 100, 121, 144, 169,\n",
       "       196, 225, 256, 289, 324, 361, 400, 441, 484, 529, 576])"
      ]
     },
     "execution_count": 32,
     "metadata": {},
     "output_type": "execute_result"
    }
   ],
   "source": [
    "np.square(sample_array)"
   ]
  },
  {
   "cell_type": "code",
   "execution_count": 33,
   "id": "2ae3da73",
   "metadata": {},
   "outputs": [
    {
     "data": {
      "text/plain": [
       "12.5"
      ]
     },
     "execution_count": 33,
     "metadata": {},
     "output_type": "execute_result"
    }
   ],
   "source": [
    "np.mean(sample_array)"
   ]
  },
  {
   "cell_type": "code",
   "execution_count": 34,
   "id": "b689fea0",
   "metadata": {},
   "outputs": [
    {
     "data": {
      "text/plain": [
       "6.922186552431729"
      ]
     },
     "execution_count": 34,
     "metadata": {},
     "output_type": "execute_result"
    }
   ],
   "source": [
    "np.std(sample_array)"
   ]
  },
  {
   "cell_type": "code",
   "execution_count": 35,
   "id": "f533ccee",
   "metadata": {},
   "outputs": [
    {
     "data": {
      "text/plain": [
       "47.916666666666664"
      ]
     },
     "execution_count": 35,
     "metadata": {},
     "output_type": "execute_result"
    }
   ],
   "source": [
    "np.var(sample_array)"
   ]
  },
  {
   "cell_type": "code",
   "execution_count": 37,
   "id": "fcf01bac",
   "metadata": {},
   "outputs": [
    {
     "data": {
      "text/plain": [
       "12.5"
      ]
     },
     "execution_count": 37,
     "metadata": {},
     "output_type": "execute_result"
    }
   ],
   "source": [
    "np.median(sample_array)"
   ]
  },
  {
   "cell_type": "code",
   "execution_count": 38,
   "id": "c505a78e",
   "metadata": {},
   "outputs": [],
   "source": [
    "array=np.random.randn(3,4)"
   ]
  },
  {
   "cell_type": "code",
   "execution_count": 39,
   "id": "bfd5ed91",
   "metadata": {},
   "outputs": [
    {
     "data": {
      "text/plain": [
       "array([[-0.48264861, -0.80840971,  0.37236444,  0.84975504],\n",
       "       [-0.73496798,  0.13809278, -0.65905514, -0.06749229],\n",
       "       [-0.47481562, -0.16993103, -1.95777977,  0.67544047]])"
      ]
     },
     "execution_count": 39,
     "metadata": {},
     "output_type": "execute_result"
    }
   ],
   "source": [
    "array"
   ]
  },
  {
   "cell_type": "code",
   "execution_count": 41,
   "id": "e34484fa",
   "metadata": {},
   "outputs": [
    {
     "data": {
      "text/plain": [
       "array([[-0.48, -0.81,  0.37,  0.85],\n",
       "       [-0.73,  0.14, -0.66, -0.07],\n",
       "       [-0.47, -0.17, -1.96,  0.68]])"
      ]
     },
     "execution_count": 41,
     "metadata": {},
     "output_type": "execute_result"
    }
   ],
   "source": [
    "np.round(array,decimals=2)"
   ]
  },
  {
   "cell_type": "code",
   "execution_count": 44,
   "id": "9139f9f5",
   "metadata": {},
   "outputs": [
    {
     "data": {
      "text/plain": [
       "array(['cricket', 'football', 'golf'], dtype='<U8')"
      ]
     },
     "execution_count": 44,
     "metadata": {},
     "output_type": "execute_result"
    }
   ],
   "source": [
    "sports=np.array(['golf','cricket','football','cricket'])\n",
    "np.unique(sports)"
   ]
  },
  {
   "cell_type": "markdown",
   "id": "57f47745",
   "metadata": {},
   "source": [
    "# pandas dataframe and indexing"
   ]
  },
  {
   "cell_type": "code",
   "execution_count": 64,
   "id": "12514926",
   "metadata": {},
   "outputs": [],
   "source": [
    "import pandas as pd\n",
    "import numpy as np"
   ]
  },
  {
   "cell_type": "code",
   "execution_count": 65,
   "id": "b9b871a8",
   "metadata": {},
   "outputs": [],
   "source": [
    "sports1=pd.Series([1,2,3,4],index=['cricket','football','basketball','golf'])"
   ]
  },
  {
   "cell_type": "code",
   "execution_count": 66,
   "id": "de925049",
   "metadata": {},
   "outputs": [
    {
     "data": {
      "text/plain": [
       "cricket       1\n",
       "football      2\n",
       "basketball    3\n",
       "golf          4\n",
       "dtype: int64"
      ]
     },
     "execution_count": 66,
     "metadata": {},
     "output_type": "execute_result"
    }
   ],
   "source": [
    "sports1"
   ]
  },
  {
   "cell_type": "code",
   "execution_count": 67,
   "id": "60d6b5f8",
   "metadata": {},
   "outputs": [
    {
     "data": {
      "text/plain": [
       "2"
      ]
     },
     "execution_count": 67,
     "metadata": {},
     "output_type": "execute_result"
    }
   ],
   "source": [
    "sports1['football']"
   ]
  },
  {
   "cell_type": "code",
   "execution_count": 68,
   "id": "6d1b277b",
   "metadata": {},
   "outputs": [
    {
     "data": {
      "text/plain": [
       "cricket     11\n",
       "football     2\n",
       "baseball     3\n",
       "golf         4\n",
       "dtype: int64"
      ]
     },
     "execution_count": 68,
     "metadata": {},
     "output_type": "execute_result"
    }
   ],
   "source": [
    "sports2=pd.Series([11,2,3,4],index=['cricket','football','baseball','golf'])\n",
    "sports2"
   ]
  },
  {
   "cell_type": "code",
   "execution_count": 69,
   "id": "0511a765",
   "metadata": {},
   "outputs": [
    {
     "data": {
      "text/plain": [
       "baseball       NaN\n",
       "basketball     NaN\n",
       "cricket       12.0\n",
       "football       4.0\n",
       "golf           8.0\n",
       "dtype: float64"
      ]
     },
     "execution_count": 69,
     "metadata": {},
     "output_type": "execute_result"
    }
   ],
   "source": [
    "sports1+sports2"
   ]
  },
  {
   "cell_type": "code",
   "execution_count": 71,
   "id": "eca8208d",
   "metadata": {},
   "outputs": [
    {
     "data": {
      "text/html": [
       "<div>\n",
       "<style scoped>\n",
       "    .dataframe tbody tr th:only-of-type {\n",
       "        vertical-align: middle;\n",
       "    }\n",
       "\n",
       "    .dataframe tbody tr th {\n",
       "        vertical-align: top;\n",
       "    }\n",
       "\n",
       "    .dataframe thead th {\n",
       "        text-align: right;\n",
       "    }\n",
       "</style>\n",
       "<table border=\"1\" class=\"dataframe\">\n",
       "  <thead>\n",
       "    <tr style=\"text-align: right;\">\n",
       "      <th></th>\n",
       "      <th>Score1</th>\n",
       "      <th>Score2</th>\n",
       "      <th>Score3</th>\n",
       "      <th>Score4</th>\n",
       "      <th>Score5</th>\n",
       "    </tr>\n",
       "  </thead>\n",
       "  <tbody>\n",
       "    <tr>\n",
       "      <th>A</th>\n",
       "      <td>0.237603</td>\n",
       "      <td>0.843813</td>\n",
       "      <td>0.068286</td>\n",
       "      <td>0.022634</td>\n",
       "      <td>0.893492</td>\n",
       "    </tr>\n",
       "    <tr>\n",
       "      <th>B</th>\n",
       "      <td>0.012242</td>\n",
       "      <td>0.760578</td>\n",
       "      <td>0.752146</td>\n",
       "      <td>0.501581</td>\n",
       "      <td>0.598871</td>\n",
       "    </tr>\n",
       "    <tr>\n",
       "      <th>C</th>\n",
       "      <td>0.692635</td>\n",
       "      <td>0.231141</td>\n",
       "      <td>0.467795</td>\n",
       "      <td>0.065043</td>\n",
       "      <td>0.630695</td>\n",
       "    </tr>\n",
       "    <tr>\n",
       "      <th>D</th>\n",
       "      <td>0.478692</td>\n",
       "      <td>0.522759</td>\n",
       "      <td>0.986609</td>\n",
       "      <td>0.608256</td>\n",
       "      <td>0.168435</td>\n",
       "    </tr>\n",
       "    <tr>\n",
       "      <th>E</th>\n",
       "      <td>0.904073</td>\n",
       "      <td>0.862673</td>\n",
       "      <td>0.969545</td>\n",
       "      <td>0.117305</td>\n",
       "      <td>0.991165</td>\n",
       "    </tr>\n",
       "    <tr>\n",
       "      <th>F</th>\n",
       "      <td>0.652180</td>\n",
       "      <td>0.488931</td>\n",
       "      <td>0.660465</td>\n",
       "      <td>0.750202</td>\n",
       "      <td>0.792155</td>\n",
       "    </tr>\n",
       "    <tr>\n",
       "      <th>G</th>\n",
       "      <td>0.950638</td>\n",
       "      <td>0.349229</td>\n",
       "      <td>0.034073</td>\n",
       "      <td>0.535135</td>\n",
       "      <td>0.389789</td>\n",
       "    </tr>\n",
       "    <tr>\n",
       "      <th>H</th>\n",
       "      <td>0.436191</td>\n",
       "      <td>0.873930</td>\n",
       "      <td>0.404736</td>\n",
       "      <td>0.795798</td>\n",
       "      <td>0.517710</td>\n",
       "    </tr>\n",
       "  </tbody>\n",
       "</table>\n",
       "</div>"
      ],
      "text/plain": [
       "     Score1    Score2    Score3    Score4    Score5\n",
       "A  0.237603  0.843813  0.068286  0.022634  0.893492\n",
       "B  0.012242  0.760578  0.752146  0.501581  0.598871\n",
       "C  0.692635  0.231141  0.467795  0.065043  0.630695\n",
       "D  0.478692  0.522759  0.986609  0.608256  0.168435\n",
       "E  0.904073  0.862673  0.969545  0.117305  0.991165\n",
       "F  0.652180  0.488931  0.660465  0.750202  0.792155\n",
       "G  0.950638  0.349229  0.034073  0.535135  0.389789\n",
       "H  0.436191  0.873930  0.404736  0.795798  0.517710"
      ]
     },
     "execution_count": 71,
     "metadata": {},
     "output_type": "execute_result"
    }
   ],
   "source": [
    "df1=pd.DataFrame(np.random.rand(8,5),index='A B C D E F G H'.split(),columns='Score1 Score2 Score3 Score4 Score5'.split())\n",
    "df1"
   ]
  },
  {
   "cell_type": "code",
   "execution_count": 72,
   "id": "cbd621fe",
   "metadata": {},
   "outputs": [
    {
     "data": {
      "text/plain": [
       "A    0.237603\n",
       "B    0.012242\n",
       "C    0.692635\n",
       "D    0.478692\n",
       "E    0.904073\n",
       "F    0.652180\n",
       "G    0.950638\n",
       "H    0.436191\n",
       "Name: Score1, dtype: float64"
      ]
     },
     "execution_count": 72,
     "metadata": {},
     "output_type": "execute_result"
    }
   ],
   "source": [
    "df1[\"Score1\"]"
   ]
  },
  {
   "cell_type": "code",
   "execution_count": 73,
   "id": "4039fc6f",
   "metadata": {},
   "outputs": [
    {
     "data": {
      "text/html": [
       "<div>\n",
       "<style scoped>\n",
       "    .dataframe tbody tr th:only-of-type {\n",
       "        vertical-align: middle;\n",
       "    }\n",
       "\n",
       "    .dataframe tbody tr th {\n",
       "        vertical-align: top;\n",
       "    }\n",
       "\n",
       "    .dataframe thead th {\n",
       "        text-align: right;\n",
       "    }\n",
       "</style>\n",
       "<table border=\"1\" class=\"dataframe\">\n",
       "  <thead>\n",
       "    <tr style=\"text-align: right;\">\n",
       "      <th></th>\n",
       "      <th>Score1</th>\n",
       "      <th>Score2</th>\n",
       "    </tr>\n",
       "  </thead>\n",
       "  <tbody>\n",
       "    <tr>\n",
       "      <th>A</th>\n",
       "      <td>0.237603</td>\n",
       "      <td>0.843813</td>\n",
       "    </tr>\n",
       "    <tr>\n",
       "      <th>B</th>\n",
       "      <td>0.012242</td>\n",
       "      <td>0.760578</td>\n",
       "    </tr>\n",
       "    <tr>\n",
       "      <th>C</th>\n",
       "      <td>0.692635</td>\n",
       "      <td>0.231141</td>\n",
       "    </tr>\n",
       "    <tr>\n",
       "      <th>D</th>\n",
       "      <td>0.478692</td>\n",
       "      <td>0.522759</td>\n",
       "    </tr>\n",
       "    <tr>\n",
       "      <th>E</th>\n",
       "      <td>0.904073</td>\n",
       "      <td>0.862673</td>\n",
       "    </tr>\n",
       "    <tr>\n",
       "      <th>F</th>\n",
       "      <td>0.652180</td>\n",
       "      <td>0.488931</td>\n",
       "    </tr>\n",
       "    <tr>\n",
       "      <th>G</th>\n",
       "      <td>0.950638</td>\n",
       "      <td>0.349229</td>\n",
       "    </tr>\n",
       "    <tr>\n",
       "      <th>H</th>\n",
       "      <td>0.436191</td>\n",
       "      <td>0.873930</td>\n",
       "    </tr>\n",
       "  </tbody>\n",
       "</table>\n",
       "</div>"
      ],
      "text/plain": [
       "     Score1    Score2\n",
       "A  0.237603  0.843813\n",
       "B  0.012242  0.760578\n",
       "C  0.692635  0.231141\n",
       "D  0.478692  0.522759\n",
       "E  0.904073  0.862673\n",
       "F  0.652180  0.488931\n",
       "G  0.950638  0.349229\n",
       "H  0.436191  0.873930"
      ]
     },
     "execution_count": 73,
     "metadata": {},
     "output_type": "execute_result"
    }
   ],
   "source": [
    "df1[[\"Score1\",\"Score2\"]]"
   ]
  },
  {
   "cell_type": "code",
   "execution_count": 75,
   "id": "f5483ccf",
   "metadata": {},
   "outputs": [
    {
     "data": {
      "text/html": [
       "<div>\n",
       "<style scoped>\n",
       "    .dataframe tbody tr th:only-of-type {\n",
       "        vertical-align: middle;\n",
       "    }\n",
       "\n",
       "    .dataframe tbody tr th {\n",
       "        vertical-align: top;\n",
       "    }\n",
       "\n",
       "    .dataframe thead th {\n",
       "        text-align: right;\n",
       "    }\n",
       "</style>\n",
       "<table border=\"1\" class=\"dataframe\">\n",
       "  <thead>\n",
       "    <tr style=\"text-align: right;\">\n",
       "      <th></th>\n",
       "      <th>Score1</th>\n",
       "      <th>Score2</th>\n",
       "      <th>Score3</th>\n",
       "      <th>Score4</th>\n",
       "      <th>Score5</th>\n",
       "      <th>Score6</th>\n",
       "    </tr>\n",
       "  </thead>\n",
       "  <tbody>\n",
       "    <tr>\n",
       "      <th>A</th>\n",
       "      <td>0.237603</td>\n",
       "      <td>0.843813</td>\n",
       "      <td>0.068286</td>\n",
       "      <td>0.022634</td>\n",
       "      <td>0.893492</td>\n",
       "      <td>1.081416</td>\n",
       "    </tr>\n",
       "    <tr>\n",
       "      <th>B</th>\n",
       "      <td>0.012242</td>\n",
       "      <td>0.760578</td>\n",
       "      <td>0.752146</td>\n",
       "      <td>0.501581</td>\n",
       "      <td>0.598871</td>\n",
       "      <td>0.772820</td>\n",
       "    </tr>\n",
       "    <tr>\n",
       "      <th>C</th>\n",
       "      <td>0.692635</td>\n",
       "      <td>0.231141</td>\n",
       "      <td>0.467795</td>\n",
       "      <td>0.065043</td>\n",
       "      <td>0.630695</td>\n",
       "      <td>0.923775</td>\n",
       "    </tr>\n",
       "    <tr>\n",
       "      <th>D</th>\n",
       "      <td>0.478692</td>\n",
       "      <td>0.522759</td>\n",
       "      <td>0.986609</td>\n",
       "      <td>0.608256</td>\n",
       "      <td>0.168435</td>\n",
       "      <td>1.001451</td>\n",
       "    </tr>\n",
       "    <tr>\n",
       "      <th>E</th>\n",
       "      <td>0.904073</td>\n",
       "      <td>0.862673</td>\n",
       "      <td>0.969545</td>\n",
       "      <td>0.117305</td>\n",
       "      <td>0.991165</td>\n",
       "      <td>1.766746</td>\n",
       "    </tr>\n",
       "    <tr>\n",
       "      <th>F</th>\n",
       "      <td>0.652180</td>\n",
       "      <td>0.488931</td>\n",
       "      <td>0.660465</td>\n",
       "      <td>0.750202</td>\n",
       "      <td>0.792155</td>\n",
       "      <td>1.141111</td>\n",
       "    </tr>\n",
       "    <tr>\n",
       "      <th>G</th>\n",
       "      <td>0.950638</td>\n",
       "      <td>0.349229</td>\n",
       "      <td>0.034073</td>\n",
       "      <td>0.535135</td>\n",
       "      <td>0.389789</td>\n",
       "      <td>1.299867</td>\n",
       "    </tr>\n",
       "    <tr>\n",
       "      <th>H</th>\n",
       "      <td>0.436191</td>\n",
       "      <td>0.873930</td>\n",
       "      <td>0.404736</td>\n",
       "      <td>0.795798</td>\n",
       "      <td>0.517710</td>\n",
       "      <td>1.310121</td>\n",
       "    </tr>\n",
       "  </tbody>\n",
       "</table>\n",
       "</div>"
      ],
      "text/plain": [
       "     Score1    Score2    Score3    Score4    Score5    Score6\n",
       "A  0.237603  0.843813  0.068286  0.022634  0.893492  1.081416\n",
       "B  0.012242  0.760578  0.752146  0.501581  0.598871  0.772820\n",
       "C  0.692635  0.231141  0.467795  0.065043  0.630695  0.923775\n",
       "D  0.478692  0.522759  0.986609  0.608256  0.168435  1.001451\n",
       "E  0.904073  0.862673  0.969545  0.117305  0.991165  1.766746\n",
       "F  0.652180  0.488931  0.660465  0.750202  0.792155  1.141111\n",
       "G  0.950638  0.349229  0.034073  0.535135  0.389789  1.299867\n",
       "H  0.436191  0.873930  0.404736  0.795798  0.517710  1.310121"
      ]
     },
     "execution_count": 75,
     "metadata": {},
     "output_type": "execute_result"
    }
   ],
   "source": [
    "df1[\"Score6\"]=df1[\"Score1\"]+df1[\"Score2\"]\n",
    "df1"
   ]
  },
  {
   "cell_type": "code",
   "execution_count": 79,
   "id": "6b4ba7d4",
   "metadata": {},
   "outputs": [
    {
     "data": {
      "text/html": [
       "<div>\n",
       "<style scoped>\n",
       "    .dataframe tbody tr th:only-of-type {\n",
       "        vertical-align: middle;\n",
       "    }\n",
       "\n",
       "    .dataframe tbody tr th {\n",
       "        vertical-align: top;\n",
       "    }\n",
       "\n",
       "    .dataframe thead th {\n",
       "        text-align: right;\n",
       "    }\n",
       "</style>\n",
       "<table border=\"1\" class=\"dataframe\">\n",
       "  <thead>\n",
       "    <tr style=\"text-align: right;\">\n",
       "      <th></th>\n",
       "      <th>ID</th>\n",
       "      <th>Name</th>\n",
       "      <th>Profit</th>\n",
       "    </tr>\n",
       "  </thead>\n",
       "  <tbody>\n",
       "    <tr>\n",
       "      <th>0</th>\n",
       "      <td>201</td>\n",
       "      <td>sriram</td>\n",
       "      <td>24</td>\n",
       "    </tr>\n",
       "    <tr>\n",
       "      <th>1</th>\n",
       "      <td>202</td>\n",
       "      <td>maha</td>\n",
       "      <td>13</td>\n",
       "    </tr>\n",
       "    <tr>\n",
       "      <th>2</th>\n",
       "      <td>203</td>\n",
       "      <td>cherry</td>\n",
       "      <td>1</td>\n",
       "    </tr>\n",
       "    <tr>\n",
       "      <th>3</th>\n",
       "      <td>204</td>\n",
       "      <td>siri</td>\n",
       "      <td>11</td>\n",
       "    </tr>\n",
       "  </tbody>\n",
       "</table>\n",
       "</div>"
      ],
      "text/plain": [
       "    ID    Name  Profit\n",
       "0  201  sriram      24\n",
       "1  202    maha      13\n",
       "2  203  cherry       1\n",
       "3  204    siri      11"
      ]
     },
     "execution_count": 79,
     "metadata": {},
     "output_type": "execute_result"
    }
   ],
   "source": [
    "df2={'ID':['201','202','203','204'],'Name':['sriram','maha','cherry','siri'],'Profit':[24,13,1,11]}\n",
    "df=pd.DataFrame(df2)\n",
    "df"
   ]
  },
  {
   "cell_type": "code",
   "execution_count": 80,
   "id": "d90cf445",
   "metadata": {},
   "outputs": [
    {
     "data": {
      "text/plain": [
       "0    201\n",
       "1    202\n",
       "2    203\n",
       "3    204\n",
       "Name: ID, dtype: object"
      ]
     },
     "execution_count": 80,
     "metadata": {},
     "output_type": "execute_result"
    }
   ],
   "source": [
    "df[\"ID\"]"
   ]
  },
  {
   "cell_type": "code",
   "execution_count": 81,
   "id": "897da26e",
   "metadata": {},
   "outputs": [
    {
     "data": {
      "text/html": [
       "<div>\n",
       "<style scoped>\n",
       "    .dataframe tbody tr th:only-of-type {\n",
       "        vertical-align: middle;\n",
       "    }\n",
       "\n",
       "    .dataframe tbody tr th {\n",
       "        vertical-align: top;\n",
       "    }\n",
       "\n",
       "    .dataframe thead th {\n",
       "        text-align: right;\n",
       "    }\n",
       "</style>\n",
       "<table border=\"1\" class=\"dataframe\">\n",
       "  <thead>\n",
       "    <tr style=\"text-align: right;\">\n",
       "      <th></th>\n",
       "      <th>ID</th>\n",
       "      <th>Name</th>\n",
       "    </tr>\n",
       "  </thead>\n",
       "  <tbody>\n",
       "    <tr>\n",
       "      <th>0</th>\n",
       "      <td>201</td>\n",
       "      <td>sriram</td>\n",
       "    </tr>\n",
       "    <tr>\n",
       "      <th>1</th>\n",
       "      <td>202</td>\n",
       "      <td>maha</td>\n",
       "    </tr>\n",
       "    <tr>\n",
       "      <th>2</th>\n",
       "      <td>203</td>\n",
       "      <td>cherry</td>\n",
       "    </tr>\n",
       "    <tr>\n",
       "      <th>3</th>\n",
       "      <td>204</td>\n",
       "      <td>siri</td>\n",
       "    </tr>\n",
       "  </tbody>\n",
       "</table>\n",
       "</div>"
      ],
      "text/plain": [
       "    ID    Name\n",
       "0  201  sriram\n",
       "1  202    maha\n",
       "2  203  cherry\n",
       "3  204    siri"
      ]
     },
     "execution_count": 81,
     "metadata": {},
     "output_type": "execute_result"
    }
   ],
   "source": [
    "df[[\"ID\",\"Name\"]]"
   ]
  },
  {
   "cell_type": "code",
   "execution_count": 82,
   "id": "9718c5e0",
   "metadata": {},
   "outputs": [],
   "source": [
    "df=df.drop(\"ID\",axis=1)"
   ]
  },
  {
   "cell_type": "code",
   "execution_count": 83,
   "id": "45c8ccdb",
   "metadata": {},
   "outputs": [
    {
     "data": {
      "text/html": [
       "<div>\n",
       "<style scoped>\n",
       "    .dataframe tbody tr th:only-of-type {\n",
       "        vertical-align: middle;\n",
       "    }\n",
       "\n",
       "    .dataframe tbody tr th {\n",
       "        vertical-align: top;\n",
       "    }\n",
       "\n",
       "    .dataframe thead th {\n",
       "        text-align: right;\n",
       "    }\n",
       "</style>\n",
       "<table border=\"1\" class=\"dataframe\">\n",
       "  <thead>\n",
       "    <tr style=\"text-align: right;\">\n",
       "      <th></th>\n",
       "      <th>Name</th>\n",
       "      <th>Profit</th>\n",
       "    </tr>\n",
       "  </thead>\n",
       "  <tbody>\n",
       "    <tr>\n",
       "      <th>0</th>\n",
       "      <td>sriram</td>\n",
       "      <td>24</td>\n",
       "    </tr>\n",
       "    <tr>\n",
       "      <th>1</th>\n",
       "      <td>maha</td>\n",
       "      <td>13</td>\n",
       "    </tr>\n",
       "    <tr>\n",
       "      <th>2</th>\n",
       "      <td>cherry</td>\n",
       "      <td>1</td>\n",
       "    </tr>\n",
       "    <tr>\n",
       "      <th>3</th>\n",
       "      <td>siri</td>\n",
       "      <td>11</td>\n",
       "    </tr>\n",
       "  </tbody>\n",
       "</table>\n",
       "</div>"
      ],
      "text/plain": [
       "     Name  Profit\n",
       "0  sriram      24\n",
       "1    maha      13\n",
       "2  cherry       1\n",
       "3    siri      11"
      ]
     },
     "execution_count": 83,
     "metadata": {},
     "output_type": "execute_result"
    }
   ],
   "source": [
    "df"
   ]
  },
  {
   "cell_type": "code",
   "execution_count": 84,
   "id": "e9519458",
   "metadata": {},
   "outputs": [
    {
     "data": {
      "text/html": [
       "<div>\n",
       "<style scoped>\n",
       "    .dataframe tbody tr th:only-of-type {\n",
       "        vertical-align: middle;\n",
       "    }\n",
       "\n",
       "    .dataframe tbody tr th {\n",
       "        vertical-align: top;\n",
       "    }\n",
       "\n",
       "    .dataframe thead th {\n",
       "        text-align: right;\n",
       "    }\n",
       "</style>\n",
       "<table border=\"1\" class=\"dataframe\">\n",
       "  <thead>\n",
       "    <tr style=\"text-align: right;\">\n",
       "      <th></th>\n",
       "      <th>Name</th>\n",
       "      <th>Profit</th>\n",
       "    </tr>\n",
       "  </thead>\n",
       "  <tbody>\n",
       "    <tr>\n",
       "      <th>0</th>\n",
       "      <td>sriram</td>\n",
       "      <td>24</td>\n",
       "    </tr>\n",
       "    <tr>\n",
       "      <th>1</th>\n",
       "      <td>maha</td>\n",
       "      <td>13</td>\n",
       "    </tr>\n",
       "    <tr>\n",
       "      <th>2</th>\n",
       "      <td>cherry</td>\n",
       "      <td>1</td>\n",
       "    </tr>\n",
       "  </tbody>\n",
       "</table>\n",
       "</div>"
      ],
      "text/plain": [
       "     Name  Profit\n",
       "0  sriram      24\n",
       "1    maha      13\n",
       "2  cherry       1"
      ]
     },
     "execution_count": 84,
     "metadata": {},
     "output_type": "execute_result"
    }
   ],
   "source": [
    "df.drop(3)"
   ]
  },
  {
   "cell_type": "code",
   "execution_count": null,
   "id": "8f734e72",
   "metadata": {},
   "outputs": [],
   "source": []
  }
 ],
 "metadata": {
  "kernelspec": {
   "display_name": "Python 3 (ipykernel)",
   "language": "python",
   "name": "python3"
  },
  "language_info": {
   "codemirror_mode": {
    "name": "ipython",
    "version": 3
   },
   "file_extension": ".py",
   "mimetype": "text/x-python",
   "name": "python",
   "nbconvert_exporter": "python",
   "pygments_lexer": "ipython3",
   "version": "3.11.5"
  }
 },
 "nbformat": 4,
 "nbformat_minor": 5
}
